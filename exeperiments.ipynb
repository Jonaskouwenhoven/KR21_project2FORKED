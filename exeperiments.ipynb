{
 "cells": [
  {
   "attachments": {},
   "cell_type": "markdown",
   "metadata": {},
   "source": [
    "*THIS FILE IS USED TO PERFORM EXPERIMENTS ON THE RUSSIA BN*"
   ]
  },
  {
   "cell_type": "code",
   "execution_count": 3,
   "metadata": {},
   "outputs": [],
   "source": [
    "# Imports\n",
    "import numpy as np\n",
    "import pandas as pd\n",
    "import copy\n",
    "import time\n",
    "import matplotlib.pyplot as plt\n",
    "import seaborn as sns\n",
    "sns.set_style('darkgrid')\n",
    "from BNReasoner import BNReasoner\n",
    "import test_BNR\n",
    "\n",
    "\n",
    "\n",
    "\n"
   ]
  },
  {
   "cell_type": "code",
   "execution_count": 4,
   "metadata": {},
   "outputs": [],
   "source": [
    "\n",
    "# Perform Unit Tests\n",
    "test_BNR.test()"
   ]
  },
  {
   "cell_type": "code",
   "execution_count": 5,
   "metadata": {},
   "outputs": [
    {
     "data": {
      "text/html": [
       "<div>\n",
       "<style scoped>\n",
       "    .dataframe tbody tr th:only-of-type {\n",
       "        vertical-align: middle;\n",
       "    }\n",
       "\n",
       "    .dataframe tbody tr th {\n",
       "        vertical-align: top;\n",
       "    }\n",
       "\n",
       "    .dataframe thead th {\n",
       "        text-align: right;\n",
       "    }\n",
       "</style>\n",
       "<table border=\"1\" class=\"dataframe\">\n",
       "  <thead>\n",
       "    <tr style=\"text-align: right;\">\n",
       "      <th></th>\n",
       "      <th>RussiaInfiltratingUkraine</th>\n",
       "      <th>InternationalSupportForUkraine</th>\n",
       "      <th>RussiaAttackNato</th>\n",
       "      <th>RussiaStartingANuclearWar</th>\n",
       "      <th>p</th>\n",
       "    </tr>\n",
       "  </thead>\n",
       "  <tbody>\n",
       "    <tr>\n",
       "      <th>0</th>\n",
       "      <td>True</td>\n",
       "      <td>True</td>\n",
       "      <td>False</td>\n",
       "      <td>False</td>\n",
       "      <td>0.540484</td>\n",
       "    </tr>\n",
       "    <tr>\n",
       "      <th>1</th>\n",
       "      <td>True</td>\n",
       "      <td>True</td>\n",
       "      <td>False</td>\n",
       "      <td>True</td>\n",
       "      <td>0.179616</td>\n",
       "    </tr>\n",
       "    <tr>\n",
       "      <th>2</th>\n",
       "      <td>True</td>\n",
       "      <td>True</td>\n",
       "      <td>True</td>\n",
       "      <td>False</td>\n",
       "      <td>0.178417</td>\n",
       "    </tr>\n",
       "    <tr>\n",
       "      <th>3</th>\n",
       "      <td>True</td>\n",
       "      <td>True</td>\n",
       "      <td>True</td>\n",
       "      <td>True</td>\n",
       "      <td>0.101483</td>\n",
       "    </tr>\n",
       "  </tbody>\n",
       "</table>\n",
       "</div>"
      ],
      "text/plain": [
       "   RussiaInfiltratingUkraine  InternationalSupportForUkraine  \\\n",
       "0                       True                            True   \n",
       "1                       True                            True   \n",
       "2                       True                            True   \n",
       "3                       True                            True   \n",
       "\n",
       "   RussiaAttackNato  RussiaStartingANuclearWar         p  \n",
       "0             False                      False  0.540484  \n",
       "1             False                       True  0.179616  \n",
       "2              True                      False  0.178417  \n",
       "3              True                       True  0.101483  "
      ]
     },
     "execution_count": 5,
     "metadata": {},
     "output_type": "execute_result"
    }
   ],
   "source": [
    "#LOAD BN \n",
    "BN = BNReasoner('testing/Russia.BIFXML')\n",
    "\n",
    "# Query P(RussiaAttackNato, RussiaStartingANuclearWar|InternationalSupportForUkraine = True, RussiaInfiltratingUkraine = True)\n",
    "Q = ['RussiaAttackNato', 'RussiaStartingANuclearWar']\n",
    "e = {'InternationalSupportForUkraine': True, 'RussiaInfiltratingUkraine': True}\n",
    "BN.marginalDistribution(Q, e)\n",
    "\n",
    "\n"
   ]
  },
  {
   "cell_type": "code",
   "execution_count": 21,
   "metadata": {},
   "outputs": [],
   "source": [
    "# Testing procedure\n",
    "\n",
    "# Loop over test data\n",
    "num_samples = 1000\n",
    "time_per_case = np.zeros((num_samples, 5))\n",
    "BN = BNReasoner('testing/Russia.BIFXML')\n",
    "\n",
    "for i in range(0, num_samples):\n",
    "    variables = BN.bn.get_all_variables()\n",
    "    # sample Q\n",
    "    Q = np.random.choice(variables, size=np.random.randint(1, 3)).tolist()\n",
    "    # drop Q from variables\n",
    "    variables = [x for x in variables if x not in Q]\n",
    "    # sample e\n",
    "    random_size = np.random.randint(1, len(variables))\n",
    "    e = dict(zip(np.random.choice(variables, size=random_size), np.random.choice([True, False], size=random_size)))\n",
    "\n",
    "    try:\n",
    "        begin = time.time()\n",
    "        # Test marginalDistribution\n",
    "        ### Case 1: no edge pruning\n",
    "        BN_1 = copy.deepcopy(BN)\n",
    "        BN_1.prune_edge = False\n",
    "        BN_1.marginalDistribution(Q, e)\n",
    "        time_1 = time.time() \n",
    "        time_per_case[i,0] = time_1 - begin\n",
    "\n",
    "\n",
    "        ### Case 2: no node pruning\n",
    "        BN_2 = copy.deepcopy(BN)\n",
    "        BN_2.prune_node = False\n",
    "        BN_2.marginalDistribution(Q, e)\n",
    "        time_2 = time.time()  \n",
    "        time_per_case[i,1] = time_2 - time_1\n",
    "\n",
    "        ### Case 3: no edge pruning, no node pruning\n",
    "        BN_3 = copy.deepcopy(BN)\n",
    "        BN_3.prune_node = False\n",
    "        BN_3.prune_node = False\n",
    "        BN_3.marginalDistribution(Q, e)\n",
    "        time_3 = time.time()\n",
    "        time_per_case[i,2] = time_3 - time_2\n",
    "\n",
    "        ### Case 4: edge pruning, node pruning \n",
    "        BN_4 = copy.deepcopy(BN)\n",
    "        BN_4.marginalDistribution(Q, e, order_method= 'min_degree')\n",
    "        time_4 = time.time() \n",
    "        time_per_case[i,3] = time_4 - time_3\n",
    "\n",
    "        ### Case 5: min_fill\n",
    "        BN_5 = copy.deepcopy(BN)\n",
    "        BN_5.marginalDistribution(Q, e, order_method='min_fill')\n",
    "        time_5 = time.time() \n",
    "        time_per_case[i,4] = time_5 - time_4\n",
    "    except:\n",
    "        print('Error in marginalDistribution with Q = {} and e = {}'.format(Q, e))\n",
    "        break\n",
    "\n",
    "\n"
   ]
  },
  {
   "cell_type": "code",
   "execution_count": 22,
   "metadata": {},
   "outputs": [
    {
     "data": {
      "image/png": "[encoded data removed]",
      "text/html": [
       "<div style=\"vertical-align: middle;\"><strong>cubehelix</strong> </div><div class=\"cmap\"><img alt=\"cubehelix colormap\" title=\"cubehelix\" style=\"border: 1px solid #555;\" src=\"data:image/png;base64,iVBORw0KGgoAAAANSUhEUgAAAgAAAABACAYAAABsv8+/AAAAGHRFWHRUaXRsZQBjdWJlaGVsaXggY29sb3JtYXDGzLN6AAAAHnRFWHREZXNjcmlwdGlvbgBjdWJlaGVsaXggY29sb3JtYXCEV1XxAAAAMHRFWHRBdXRob3IATWF0cGxvdGxpYiB2My42LjIsIGh0dHBzOi8vbWF0cGxvdGxpYi5vcmdxzlVfAAAAMnRFWHRTb2Z0d2FyZQBNYXRwbG90bGliIHYzLjYuMiwgaHR0cHM6Ly9tYXRwbG90bGliLm9yZ19oyngAAAJbSURBVHic7dZBbuMwEATAIZ3/P3m1h7VkcETFe++qCzFNRoEMmO5RVUdV1ahRVVVzzNrNs975GO+1521957Pnba12/nH/nOd+/3NurPncn6vZz/0+H9c82nPHut/OffJ62O957fNrruXcOR+3/WN5nZ5/nncsr3XOT/m4nrufr//7Xj8f07Fd5/yzzn3/+liP39d6yv95tfx1vtaX+dX/vufX/jmP/f4tH9v855af69znR8/nw/n1+/rZfy3PmS1/muf5dw/5HK91but4ODfqZ8nPc+M2/+z3x/qc6vl7PfN6n7vls83XOrf5Mff7t/z9hTiu/Z7v59u5a3+0vN074yFvc7/f+v3T77Gj3Ve3/Mt99b/5515ZXufr/vUz0O/Bdp+M0c+vz3k6d/s5qId8jDWvff752M7f19GeO9a19vN43J/tOef3FQCIowAAQCAFAAACKQAAEEgBAIBACgAABFIAACCQAgAAgRQAAAikAABAIAUAAAIpAAAQSAEAgEAKAAAEUgAAIJACAACBFAAACKQAAEAgBQAAAikAABBIAQCAQAoAAARSAAAgkAIAAIEUAAAIpAAAQCAFAAACKQAAEEgBAIBACgAABFIAACCQAgAAgRQAAAikAABAIAUAAAIpAAAQSAEAgEAKAAAEUgAAIJACAACBFAAACKQAAEAgBQAAAikAABBIAQCAQAoAAARSAAAgkAIAAIEUAAAIpAAAQCAFAAACKQAAEEgBAIBACgAABFIAACCQAgAAgRQAAAikAABAIAUAAAIpAAAQSAEAgEAKAAAEUgAAINBfhNNDfJBGo8QAAAAASUVORK5CYII=\"></div><div style=\"vertical-align: middle; max-width: 514px; display: flex; justify-content: space-between;\"><div style=\"float: left;\"><div title=\"#000000ff\" style=\"display: inline-block; width: 1em; height: 1em; margin: 0; vertical-align: middle; border: 1px solid #555; background-color: #000000ff;\"></div> under</div><div style=\"margin: 0 auto; display: inline-block;\">bad <div title=\"#00000000\" style=\"display: inline-block; width: 1em; height: 1em; margin: 0; vertical-align: middle; border: 1px solid #555; background-color: #00000000;\"></div></div><div style=\"float: right;\">over <div title=\"#ffffffff\" style=\"display: inline-block; width: 1em; height: 1em; margin: 0; vertical-align: middle; border: 1px solid #555; background-color: #ffffffff;\"></div></div>"
      ],
      "text/plain": [
       "<matplotlib.colors.LinearSegmentedColormap at 0x286c83a00>"
      ]
     },
     "execution_count": 22,
     "metadata": {},
     "output_type": "execute_result"
    }
   ],
   "source": [
    "df1 = pd.DataFrame(time_per_case[:,:-1], columns=['no edge pruning', 'no node pruning', 'none', 'both'])\n",
    "df2 = pd.DataFrame(time_per_case[:,-2:], columns=['min_degree', 'min_fill'])\n",
    "sns.color_palette(\"cubehelix\", as_cmap=True)"
   ]
  },
  {
   "cell_type": "code",
   "execution_count": 32,
   "metadata": {},
   "outputs": [
    {
     "name": "stdout",
     "output_type": "stream",
     "text": [
      "     no edge pruning  no node pruning      none      both\n",
      "0           0.034875         0.033343  0.030394  0.031000\n",
      "1           0.014876         0.022146  0.023117  0.013860\n",
      "2           0.027478         0.025490  0.024011  0.022138\n",
      "3           0.026826         0.027850  0.027949  0.029722\n",
      "4           0.033286         0.027442  0.025913  0.024595\n",
      "..               ...              ...       ...       ...\n",
      "995         0.025382         0.025030  0.025859  0.026208\n",
      "996         0.025774         0.026107  0.025444  0.025578\n",
      "997         0.024423         0.024277  0.023345  0.023694\n",
      "998         0.023086         0.022725  0.022615  0.023797\n",
      "999         0.025703         0.025376  0.024443  0.025306\n",
      "\n",
      "[1000 rows x 4 columns]\n"
     ]
    },
    {
     "data": {
      "image/png": "[encoded data removed]",
      "text/plain": [
       "<Figure size 640x480 with 1 Axes>"
      ]
     },
     "metadata": {},
     "output_type": "display_data"
    }
   ],
   "source": [
    "print(df1)\n",
    "sns.boxplot(df1, palette = \"cubehelix\")\n",
    "plt.ylabel('Time (s)')\n",
    "plt.yscale('log')\n",
    "plt.savefig('time_per_case.png')\n"
   ]
  },
  {
   "cell_type": "code",
   "execution_count": 31,
   "metadata": {},
   "outputs": [
    {
     "name": "stdout",
     "output_type": "stream",
     "text": [
      "     min_degree  min_fill\n",
      "0      0.031000  0.030047\n",
      "1      0.013860  0.014850\n",
      "2      0.022138  0.023998\n",
      "3      0.029722  0.031545\n",
      "4      0.024595  0.024178\n",
      "..          ...       ...\n",
      "995    0.026208  0.025189\n",
      "996    0.025578  0.025760\n",
      "997    0.023694  0.024196\n",
      "998    0.023797  0.023065\n",
      "999    0.025306  0.025479\n",
      "\n",
      "[1000 rows x 2 columns]\n"
     ]
    },
    {
     "data": {
      "image/png": "[encoded data removed]",
      "text/plain": [
       "<Figure size 640x480 with 1 Axes>"
      ]
     },
     "metadata": {},
     "output_type": "display_data"
    }
   ],
   "source": [
    "print(df2)\n",
    "sns.boxplot(df2,  palette = \"cubehelix\")\n",
    "plt.yscale('log')\n",
    "plt.ylabel('Time (s)')\n",
    "plt.savefig('fil_heur.png')"
   ]
  },
  {
   "cell_type": "code",
   "execution_count": 35,
   "metadata": {},
   "outputs": [
    {
     "name": "stdout",
     "output_type": "stream",
     "text": [
      "[[5.00000000e-01 9.99999059e-01 9.99996421e-01 1.87011605e-01]\n",
      " [9.40713359e-07 5.00000000e-01 4.22074130e-01 1.62323377e-09]\n",
      " [3.57902983e-06 5.77925870e-01 5.00000000e-01 1.05647877e-08]\n",
      " [8.12988395e-01 9.99999998e-01 9.99999989e-01 5.00000000e-01]]\n",
      "\\begin{table}[h!]\n",
      "\\centering\n",
      "\\caption{Pruning Variations Two-Sided Independent T-Test (M = 1000)}\n",
      "\\label{tab: pruning_pval}\n",
      "\\begin{tabular}{lrrrr}\n",
      "\\toprule\n",
      " & no edge pruning & no node pruning & none & both \\\\\n",
      "\\midrule\n",
      "no edge pruning & 0.500 & 1.000 & 1.000 & 0.187 \\\\\n",
      "no node pruning & 0.000 & 0.500 & 0.422 & 0.000 \\\\\n",
      "none & 0.000 & 0.578 & 0.500 & 0.000 \\\\\n",
      "both & 0.813 & 1.000 & 1.000 & 0.500 \\\\\n",
      "\\bottomrule\n",
      "\\end{tabular}\n",
      "\\end{table}\n",
      "\n"
     ]
    }
   ],
   "source": [
    "### unequal independent one-sided t-test\n",
    "from scipy.stats import ttest_ind\n",
    "pval_matrix = np.zeros((4,4))\n",
    "for i in range(4):\n",
    "    for j in range(4):\n",
    "        pval_matrix[i,j] = ttest_ind(df1.iloc[:,i], df1.iloc[:,j], alternative= 'greater', equal_var=False)[1]\n",
    "\n",
    "print(pval_matrix)\n",
    "df_res = pd.DataFrame(pval_matrix, columns=['no edge pruning', 'no node pruning', 'none', 'both'], index=['no edge pruning', 'no node pruning', 'none', 'both'])\n",
    "s = df_res.style.format(precision = 3)\n",
    "latex_tab = s.to_latex(hrules = True, position_float = \"centering\",  caption = f'Pruning Variations Two-Sided Independent T-Test (M = 1000)',\n",
    "                            label=f'tab: pruning_pval', position = 'h!')\n",
    "print(latex_tab)"
   ]
  },
  {
   "cell_type": "code",
   "execution_count": 37,
   "metadata": {},
   "outputs": [
    {
     "name": "stdout",
     "output_type": "stream",
     "text": [
      "[[0.8129884  1.        ]\n",
      " [0.64105654 0.99999984]]\n",
      "\\begin{table}[h!]\n",
      "\\centering\n",
      "\\caption{Ordering Heuristic Variations Two-Sided Independent T-Test (M = 1000)}\n",
      "\\label{tab: pruning_pval}\n",
      "\\begin{tabular}{lrr}\n",
      "\\toprule\n",
      " & min degree & min_fill \\\\\n",
      "\\midrule\n",
      "min degree & 0.813 & 1.000 \\\\\n",
      "min_fill & 0.641 & 1.000 \\\\\n",
      "\\bottomrule\n",
      "\\end{tabular}\n",
      "\\end{table}\n",
      "\n"
     ]
    }
   ],
   "source": [
    "### unequal independent one-sided t-test\n",
    "from scipy.stats import ttest_ind\n",
    "pval_matrix = np.zeros((2,2))\n",
    "for i in range(2):\n",
    "    for j in range(2):\n",
    "        pval_matrix[i,j] = ttest_ind(df2.iloc[:,i], df1.iloc[:,j], alternative= 'greater', equal_var=False)[1]\n",
    "\n",
    "print(pval_matrix)\n",
    "df_res = pd.DataFrame(pval_matrix, columns=['min degree', 'min_fill'], index=['min degree', 'min_fill'])\n",
    "s = df_res.style.format(precision = 3)\n",
    "latex_tab = s.to_latex(hrules = True, position_float = \"centering\",  caption = f'Ordering Heuristic Variations Two-Sided Independent T-Test (M = 1000)',\n",
    "                            label=f'tab: pruning_pval', position = 'h!')\n",
    "print(latex_tab)"
   ]
  }
 ],
 "metadata": {
  "kernelspec": {
   "display_name": "base",
   "language": "python",
   "name": "python3"
  },
  "language_info": {
   "codemirror_mode": {
    "name": "ipython",
    "version": 3
   },
   "file_extension": ".py",
   "mimetype": "text/x-python",
   "name": "python",
   "nbconvert_exporter": "python",
   "pygments_lexer": "ipython3",
   "version": "3.10.6"
  },
  "orig_nbformat": 4,
  "vscode": {
   "interpreter": {
    "hash": "c6e4e9f98eb68ad3b7c296f83d20e6de614cb42e90992a65aa266555a3137d0d"
   }
  }
 },
 "nbformat": 4,
 "nbformat_minor": 2
}
